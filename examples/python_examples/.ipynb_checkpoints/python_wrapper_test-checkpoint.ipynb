{
 "cells": [
  {
   "cell_type": "code",
   "execution_count": 2,
   "metadata": {},
   "outputs": [],
   "source": [
    "import VBBinaryLensingLibrary"
   ]
  },
  {
   "cell_type": "code",
   "execution_count": 2,
   "metadata": {},
   "outputs": [],
   "source": [
    "VBB = VBBinaryLensingLibrary.VBBinaryLensing()\n",
    "VBB.Tol = 1e-03\n",
    "\n",
    "s = 0.8\n",
    "q = 0.1\n",
    "\n",
    "y1 = 0.01\n",
    "y2 = 0.01\n",
    "Rs = 0.01\n",
    "\n",
    "a1_list = (0.2,0.3,0.51,0.6)\n",
    "mag_list = ()\n",
    "\n",
    "mag0 = VBB.BinaryMag0(s, q, y1, y2)\n",
    "mag2 = VBB.BinaryMag2(s, q, y1, y2, Rs)"
   ]
  },
  {
   "cell_type": "code",
   "execution_count": 3,
   "metadata": {},
   "outputs": [
    {
     "name": "stdout",
     "output_type": "stream",
     "text": [
      "18.18544835997583 18.283392636922326\n"
     ]
    }
   ],
   "source": [
    "print(mag0, mag2)"
   ]
  },
  {
   "cell_type": "code",
   "execution_count": 5,
   "metadata": {},
   "outputs": [],
   "source": [
    "mycurves = VBB.PlotCrit(s, q)"
   ]
  },
  {
   "cell_type": "code",
   "execution_count": 19,
   "metadata": {},
   "outputs": [
    {
     "data": {
      "text/plain": [
       "0.2697660055790633"
      ]
     },
     "execution_count": 19,
     "metadata": {},
     "output_type": "execute_result"
    }
   ],
   "source": [
    "mycurves.last.first.x1"
   ]
  }
 ],
 "metadata": {
  "kernelspec": {
   "display_name": "Python 3.6",
   "language": "python",
   "name": "python3"
  },
  "language_info": {
   "codemirror_mode": {
    "name": "ipython",
    "version": 3
   },
   "file_extension": ".py",
   "mimetype": "text/x-python",
   "name": "python",
   "nbconvert_exporter": "python",
   "pygments_lexer": "ipython3",
   "version": "3.6.4"
  }
 },
 "nbformat": 4,
 "nbformat_minor": 2
}
